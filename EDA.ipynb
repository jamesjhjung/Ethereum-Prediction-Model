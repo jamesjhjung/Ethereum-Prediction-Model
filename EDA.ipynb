{
 "cells": [
  {
   "cell_type": "code",
   "execution_count": 1,
   "metadata": {},
   "outputs": [],
   "source": [
    "import numpy as np\n",
    "import pandas as pd\n",
    "import matplotlib.pyplot as plt\n",
    "import seaborn as sns"
   ]
  },
  {
   "cell_type": "code",
   "execution_count": 2,
   "metadata": {},
   "outputs": [],
   "source": [
    "df = pd.read_csv('data/ethereum_price.csv')"
   ]
  },
  {
   "cell_type": "code",
   "execution_count": 3,
   "metadata": {},
   "outputs": [
    {
     "data": {
      "text/html": [
       "<div>\n",
       "<style scoped>\n",
       "    .dataframe tbody tr th:only-of-type {\n",
       "        vertical-align: middle;\n",
       "    }\n",
       "\n",
       "    .dataframe tbody tr th {\n",
       "        vertical-align: top;\n",
       "    }\n",
       "\n",
       "    .dataframe thead th {\n",
       "        text-align: right;\n",
       "    }\n",
       "</style>\n",
       "<table border=\"1\" class=\"dataframe\">\n",
       "  <thead>\n",
       "    <tr style=\"text-align: right;\">\n",
       "      <th></th>\n",
       "      <th>Date</th>\n",
       "      <th>Price</th>\n",
       "      <th>Open</th>\n",
       "      <th>High</th>\n",
       "      <th>Low</th>\n",
       "      <th>Vol.</th>\n",
       "      <th>Change %</th>\n",
       "    </tr>\n",
       "  </thead>\n",
       "  <tbody>\n",
       "    <tr>\n",
       "      <th>0</th>\n",
       "      <td>Mar 08, 2023</td>\n",
       "      <td>1,553.49</td>\n",
       "      <td>1,561.79</td>\n",
       "      <td>1,569.70</td>\n",
       "      <td>1,548.98</td>\n",
       "      <td>498.57K</td>\n",
       "      <td>-0.53%</td>\n",
       "    </tr>\n",
       "    <tr>\n",
       "      <th>1</th>\n",
       "      <td>Mar 07, 2023</td>\n",
       "      <td>1,561.78</td>\n",
       "      <td>1,565.84</td>\n",
       "      <td>1,580.95</td>\n",
       "      <td>1,536.31</td>\n",
       "      <td>460.10K</td>\n",
       "      <td>-0.26%</td>\n",
       "    </tr>\n",
       "    <tr>\n",
       "      <th>2</th>\n",
       "      <td>Mar 06, 2023</td>\n",
       "      <td>1,565.84</td>\n",
       "      <td>1,564.36</td>\n",
       "      <td>1,581.13</td>\n",
       "      <td>1,555.43</td>\n",
       "      <td>322.16K</td>\n",
       "      <td>0.09%</td>\n",
       "    </tr>\n",
       "    <tr>\n",
       "      <th>3</th>\n",
       "      <td>Mar 05, 2023</td>\n",
       "      <td>1,564.37</td>\n",
       "      <td>1,566.73</td>\n",
       "      <td>1,587.95</td>\n",
       "      <td>1,556.84</td>\n",
       "      <td>313.01K</td>\n",
       "      <td>-0.15%</td>\n",
       "    </tr>\n",
       "    <tr>\n",
       "      <th>4</th>\n",
       "      <td>Mar 04, 2023</td>\n",
       "      <td>1,566.73</td>\n",
       "      <td>1,569.45</td>\n",
       "      <td>1,577.02</td>\n",
       "      <td>1,550.10</td>\n",
       "      <td>247.02K</td>\n",
       "      <td>-0.14%</td>\n",
       "    </tr>\n",
       "  </tbody>\n",
       "</table>\n",
       "</div>"
      ],
      "text/plain": [
       "           Date     Price      Open      High       Low     Vol. Change %\n",
       "0  Mar 08, 2023  1,553.49  1,561.79  1,569.70  1,548.98  498.57K   -0.53%\n",
       "1  Mar 07, 2023  1,561.78  1,565.84  1,580.95  1,536.31  460.10K   -0.26%\n",
       "2  Mar 06, 2023  1,565.84  1,564.36  1,581.13  1,555.43  322.16K    0.09%\n",
       "3  Mar 05, 2023  1,564.37  1,566.73  1,587.95  1,556.84  313.01K   -0.15%\n",
       "4  Mar 04, 2023  1,566.73  1,569.45  1,577.02  1,550.10  247.02K   -0.14%"
      ]
     },
     "execution_count": 3,
     "metadata": {},
     "output_type": "execute_result"
    }
   ],
   "source": [
    "df.head()"
   ]
  },
  {
   "cell_type": "code",
   "execution_count": 4,
   "metadata": {},
   "outputs": [
    {
     "name": "stdout",
     "output_type": "stream",
     "text": [
      "<class 'pandas.core.frame.DataFrame'>\n",
      "RangeIndex: 2555 entries, 0 to 2554\n",
      "Data columns (total 7 columns):\n",
      " #   Column    Non-Null Count  Dtype \n",
      "---  ------    --------------  ----- \n",
      " 0   Date      2555 non-null   object\n",
      " 1   Price     2555 non-null   object\n",
      " 2   Open      2555 non-null   object\n",
      " 3   High      2555 non-null   object\n",
      " 4   Low       2555 non-null   object\n",
      " 5   Vol.      2555 non-null   object\n",
      " 6   Change %  2555 non-null   object\n",
      "dtypes: object(7)\n",
      "memory usage: 139.9+ KB\n"
     ]
    }
   ],
   "source": [
    "df.info()"
   ]
  },
  {
   "cell_type": "code",
   "execution_count": 5,
   "metadata": {},
   "outputs": [
    {
     "data": {
      "text/plain": [
       "Date        object\n",
       "Price       object\n",
       "Open        object\n",
       "High        object\n",
       "Low         object\n",
       "Vol.        object\n",
       "Change %    object\n",
       "dtype: object"
      ]
     },
     "execution_count": 5,
     "metadata": {},
     "output_type": "execute_result"
    }
   ],
   "source": [
    "df.dtypes"
   ]
  },
  {
   "cell_type": "code",
   "execution_count": 6,
   "metadata": {},
   "outputs": [],
   "source": [
    "# change object dtype to float\n",
    "df['Price'] = df['Price'].str.replace(',', '').astype(float)\n",
    "df['Open'] = df['Open'].str.replace(',', '').astype(float)\n",
    "df['High'] = df['High'].str.replace(',', '').astype(float)\n",
    "df['Low'] = df['Low'].str.replace(',', '').astype(float)\n",
    "df['Change %'] = df['Change %'].str.replace('%', '').astype(float)"
   ]
  },
  {
   "cell_type": "code",
   "execution_count": 7,
   "metadata": {},
   "outputs": [],
   "source": [
    "# change Vol. column to numbers: (x1e3 for K, x1e6 for M, x1e9 for B, 0 for -)\n",
    "df['Vol.'] = df['Vol.'].replace({'K': '*1e3', 'M': '*1e6', 'B': '*1e9', '-': 0}, regex = True).map(pd.eval).astype(int)"
   ]
  },
  {
   "cell_type": "code",
   "execution_count": 8,
   "metadata": {},
   "outputs": [],
   "source": [
    "# converting to datetime\n",
    "df['Date'] = pd.to_datetime(df['Date'])"
   ]
  },
  {
   "cell_type": "code",
   "execution_count": 9,
   "metadata": {},
   "outputs": [
    {
     "data": {
      "text/plain": [
       "Date        datetime64[ns]\n",
       "Price              float64\n",
       "Open               float64\n",
       "High               float64\n",
       "Low                float64\n",
       "Vol.                 int32\n",
       "Change %           float64\n",
       "dtype: object"
      ]
     },
     "execution_count": 9,
     "metadata": {},
     "output_type": "execute_result"
    }
   ],
   "source": [
    "# data type check after transformations\n",
    "df.dtypes"
   ]
  },
  {
   "cell_type": "code",
   "execution_count": 10,
   "metadata": {},
   "outputs": [
    {
     "data": {
      "text/html": [
       "<div>\n",
       "<style scoped>\n",
       "    .dataframe tbody tr th:only-of-type {\n",
       "        vertical-align: middle;\n",
       "    }\n",
       "\n",
       "    .dataframe tbody tr th {\n",
       "        vertical-align: top;\n",
       "    }\n",
       "\n",
       "    .dataframe thead th {\n",
       "        text-align: right;\n",
       "    }\n",
       "</style>\n",
       "<table border=\"1\" class=\"dataframe\">\n",
       "  <thead>\n",
       "    <tr style=\"text-align: right;\">\n",
       "      <th></th>\n",
       "      <th>Date</th>\n",
       "      <th>Price</th>\n",
       "      <th>Open</th>\n",
       "      <th>High</th>\n",
       "      <th>Low</th>\n",
       "      <th>Vol.</th>\n",
       "      <th>Change %</th>\n",
       "    </tr>\n",
       "  </thead>\n",
       "  <tbody>\n",
       "    <tr>\n",
       "      <th>0</th>\n",
       "      <td>2023-03-08</td>\n",
       "      <td>1553.49</td>\n",
       "      <td>1561.79</td>\n",
       "      <td>1569.70</td>\n",
       "      <td>1548.98</td>\n",
       "      <td>498570</td>\n",
       "      <td>-0.53</td>\n",
       "    </tr>\n",
       "    <tr>\n",
       "      <th>1</th>\n",
       "      <td>2023-03-07</td>\n",
       "      <td>1561.78</td>\n",
       "      <td>1565.84</td>\n",
       "      <td>1580.95</td>\n",
       "      <td>1536.31</td>\n",
       "      <td>460100</td>\n",
       "      <td>-0.26</td>\n",
       "    </tr>\n",
       "    <tr>\n",
       "      <th>2</th>\n",
       "      <td>2023-03-06</td>\n",
       "      <td>1565.84</td>\n",
       "      <td>1564.36</td>\n",
       "      <td>1581.13</td>\n",
       "      <td>1555.43</td>\n",
       "      <td>322160</td>\n",
       "      <td>0.09</td>\n",
       "    </tr>\n",
       "    <tr>\n",
       "      <th>3</th>\n",
       "      <td>2023-03-05</td>\n",
       "      <td>1564.37</td>\n",
       "      <td>1566.73</td>\n",
       "      <td>1587.95</td>\n",
       "      <td>1556.84</td>\n",
       "      <td>313010</td>\n",
       "      <td>-0.15</td>\n",
       "    </tr>\n",
       "    <tr>\n",
       "      <th>4</th>\n",
       "      <td>2023-03-04</td>\n",
       "      <td>1566.73</td>\n",
       "      <td>1569.45</td>\n",
       "      <td>1577.02</td>\n",
       "      <td>1550.10</td>\n",
       "      <td>247020</td>\n",
       "      <td>-0.14</td>\n",
       "    </tr>\n",
       "  </tbody>\n",
       "</table>\n",
       "</div>"
      ],
      "text/plain": [
       "        Date    Price     Open     High      Low    Vol.  Change %\n",
       "0 2023-03-08  1553.49  1561.79  1569.70  1548.98  498570     -0.53\n",
       "1 2023-03-07  1561.78  1565.84  1580.95  1536.31  460100     -0.26\n",
       "2 2023-03-06  1565.84  1564.36  1581.13  1555.43  322160      0.09\n",
       "3 2023-03-05  1564.37  1566.73  1587.95  1556.84  313010     -0.15\n",
       "4 2023-03-04  1566.73  1569.45  1577.02  1550.10  247020     -0.14"
      ]
     },
     "execution_count": 10,
     "metadata": {},
     "output_type": "execute_result"
    }
   ],
   "source": [
    "df.head()"
   ]
  },
  {
   "cell_type": "code",
   "execution_count": 11,
   "metadata": {},
   "outputs": [],
   "source": [
    "# function for basic statistics\n",
    "def basic_stat(x):\n",
    "    return print(x.describe())"
   ]
  },
  {
   "cell_type": "code",
   "execution_count": 12,
   "metadata": {},
   "outputs": [
    {
     "name": "stdout",
     "output_type": "stream",
     "text": [
      "count    2555.000000\n",
      "mean      892.548841\n",
      "std      1116.662557\n",
      "min         6.700000\n",
      "25%       150.580000\n",
      "50%       310.380000\n",
      "75%      1362.700000\n",
      "max      4808.380000\n",
      "Name: Price, dtype: float64\n"
     ]
    }
   ],
   "source": [
    "# Price\n",
    "basic_stat(df['Price'])"
   ]
  },
  {
   "cell_type": "code",
   "execution_count": 13,
   "metadata": {},
   "outputs": [
    {
     "name": "stdout",
     "output_type": "stream",
     "text": [
      "count    2555.000000\n",
      "mean      891.966955\n",
      "std      1116.738625\n",
      "min         6.680000\n",
      "25%       150.130000\n",
      "50%       309.820000\n",
      "75%      1358.755000\n",
      "max      4808.340000\n",
      "Name: Open, dtype: float64\n"
     ]
    }
   ],
   "source": [
    "# Open\n",
    "basic_stat(df['Open'])"
   ]
  },
  {
   "cell_type": "code",
   "execution_count": 14,
   "metadata": {},
   "outputs": [
    {
     "name": "stdout",
     "output_type": "stream",
     "text": [
      "count    2555.000000\n",
      "mean      922.027190\n",
      "std      1151.409264\n",
      "min         7.320000\n",
      "25%       156.815000\n",
      "50%       318.900000\n",
      "75%      1398.580000\n",
      "max      4864.060000\n",
      "Name: High, dtype: float64\n"
     ]
    }
   ],
   "source": [
    "# High\n",
    "basic_stat(df['High'])"
   ]
  },
  {
   "cell_type": "code",
   "execution_count": 15,
   "metadata": {},
   "outputs": [
    {
     "name": "stdout",
     "output_type": "stream",
     "text": [
      "count    2555.000000\n",
      "mean      857.857425\n",
      "std      1076.342150\n",
      "min         5.860000\n",
      "25%       144.965000\n",
      "50%       295.440000\n",
      "75%      1311.590000\n",
      "max      4715.430000\n",
      "Name: Low, dtype: float64\n"
     ]
    }
   ],
   "source": [
    "# Low\n",
    "basic_stat(df['Low'])"
   ]
  },
  {
   "cell_type": "code",
   "execution_count": 16,
   "metadata": {},
   "outputs": [
    {
     "data": {
      "text/plain": [
       "Date        0\n",
       "Price       0\n",
       "Open        0\n",
       "High        0\n",
       "Low         0\n",
       "Vol.        0\n",
       "Change %    0\n",
       "dtype: int64"
      ]
     },
     "execution_count": 16,
     "metadata": {},
     "output_type": "execute_result"
    }
   ],
   "source": [
    "# null values\n",
    "df.isnull().sum()"
   ]
  },
  {
   "cell_type": "code",
   "execution_count": 17,
   "metadata": {},
   "outputs": [],
   "source": [
    "# function for histogram\n",
    "def hist_col(x):\n",
    "    return x.hist(bins = 100, legend = True)"
   ]
  },
  {
   "cell_type": "code",
   "execution_count": 18,
   "metadata": {},
   "outputs": [
    {
     "data": {
      "text/plain": [
       "<AxesSubplot:>"
      ]
     },
     "execution_count": 18,
     "metadata": {},
     "output_type": "execute_result"
    },
    {
     "data": {
      "image/png": "[encoded data removed]",
      "text/plain": [
       "<Figure size 432x288 with 1 Axes>"
      ]
     },
     "metadata": {
      "needs_background": "light"
     },
     "output_type": "display_data"
    }
   ],
   "source": [
    "# histogram of Price\n",
    "hist_col(df['Price'])"
   ]
  },
  {
   "cell_type": "code",
   "execution_count": 19,
   "metadata": {},
   "outputs": [
    {
     "data": {
      "text/plain": [
       "<AxesSubplot:>"
      ]
     },
     "execution_count": 19,
     "metadata": {},
     "output_type": "execute_result"
    },
    {
     "data": {
      "image/png": "[encoded data removed]",
      "text/plain": [
       "<Figure size 432x288 with 1 Axes>"
      ]
     },
     "metadata": {
      "needs_background": "light"
     },
     "output_type": "display_data"
    }
   ],
   "source": [
    "# histogram of Open\n",
    "hist_col(df['Open'])"
   ]
  },
  {
   "cell_type": "code",
   "execution_count": 20,
   "metadata": {},
   "outputs": [
    {
     "data": {
      "text/plain": [
       "<AxesSubplot:>"
      ]
     },
     "execution_count": 20,
     "metadata": {},
     "output_type": "execute_result"
    },
    {
     "data": {
      "image/png": "[encoded data removed]",
      "text/plain": [
       "<Figure size 432x288 with 1 Axes>"
      ]
     },
     "metadata": {
      "needs_background": "light"
     },
     "output_type": "display_data"
    }
   ],
   "source": [
    "# histogram of High\n",
    "hist_col(df['High'])"
   ]
  },
  {
   "cell_type": "code",
   "execution_count": 21,
   "metadata": {},
   "outputs": [
    {
     "data": {
      "text/plain": [
       "<AxesSubplot:>"
      ]
     },
     "execution_count": 21,
     "metadata": {},
     "output_type": "execute_result"
    },
    {
     "data": {
      "image/png": "[encoded data removed]",
      "text/plain": [
       "<Figure size 432x288 with 1 Axes>"
      ]
     },
     "metadata": {
      "needs_background": "light"
     },
     "output_type": "display_data"
    }
   ],
   "source": [
    "# histogram of Low\n",
    "hist_col(df['Low'])"
   ]
  },
  {
   "cell_type": "code",
   "execution_count": 22,
   "metadata": {},
   "outputs": [],
   "source": [
    "# function for boxplot\n",
    "def box_col(x):\n",
    "    return sns.boxplot(x)"
   ]
  },
  {
   "cell_type": "code",
   "execution_count": 23,
   "metadata": {},
   "outputs": [
    {
     "name": "stderr",
     "output_type": "stream",
     "text": [
      "c:\\Users\\james\\anaconda3\\lib\\site-packages\\seaborn\\_decorators.py:36: FutureWarning: Pass the following variable as a keyword arg: x. From version 0.12, the only valid positional argument will be `data`, and passing other arguments without an explicit keyword will result in an error or misinterpretation.\n",
      "  warnings.warn(\n"
     ]
    },
    {
     "data": {
      "text/plain": [
       "<AxesSubplot:xlabel='Open'>"
      ]
     },
     "execution_count": 23,
     "metadata": {},
     "output_type": "execute_result"
    },
    {
     "data": {
      "image/png": "[encoded data removed]",
      "text/plain": [
       "<Figure size 432x288 with 1 Axes>"
      ]
     },
     "metadata": {
      "needs_background": "light"
     },
     "output_type": "display_data"
    }
   ],
   "source": [
    "# boxplot of Open\n",
    "box_col(df['Open'])"
   ]
  },
  {
   "cell_type": "code",
   "execution_count": 24,
   "metadata": {},
   "outputs": [
    {
     "name": "stderr",
     "output_type": "stream",
     "text": [
      "c:\\Users\\james\\anaconda3\\lib\\site-packages\\seaborn\\_decorators.py:36: FutureWarning: Pass the following variable as a keyword arg: x. From version 0.12, the only valid positional argument will be `data`, and passing other arguments without an explicit keyword will result in an error or misinterpretation.\n",
      "  warnings.warn(\n"
     ]
    },
    {
     "data": {
      "text/plain": [
       "<AxesSubplot:xlabel='High'>"
      ]
     },
     "execution_count": 24,
     "metadata": {},
     "output_type": "execute_result"
    },
    {
     "data": {
      "image/png": "[encoded data removed]",
      "text/plain": [
       "<Figure size 432x288 with 1 Axes>"
      ]
     },
     "metadata": {
      "needs_background": "light"
     },
     "output_type": "display_data"
    }
   ],
   "source": [
    "# boxplot of High\n",
    "box_col(df['High'])"
   ]
  },
  {
   "cell_type": "code",
   "execution_count": 25,
   "metadata": {},
   "outputs": [
    {
     "name": "stderr",
     "output_type": "stream",
     "text": [
      "c:\\Users\\james\\anaconda3\\lib\\site-packages\\seaborn\\_decorators.py:36: FutureWarning: Pass the following variable as a keyword arg: x. From version 0.12, the only valid positional argument will be `data`, and passing other arguments without an explicit keyword will result in an error or misinterpretation.\n",
      "  warnings.warn(\n"
     ]
    },
    {
     "data": {
      "text/plain": [
       "<AxesSubplot:xlabel='Low'>"
      ]
     },
     "execution_count": 25,
     "metadata": {},
     "output_type": "execute_result"
    },
    {
     "data": {
      "image/png": "[encoded data removed]",
      "text/plain": [
       "<Figure size 432x288 with 1 Axes>"
      ]
     },
     "metadata": {
      "needs_background": "light"
     },
     "output_type": "display_data"
    }
   ],
   "source": [
    "# boxplot of Low\n",
    "box_col(df['Low'])"
   ]
  },
  {
   "cell_type": "code",
   "execution_count": 27,
   "metadata": {},
   "outputs": [
    {
     "data": {
      "text/plain": [
       "<AxesSubplot:xlabel='Date'>"
      ]
     },
     "execution_count": 27,
     "metadata": {},
     "output_type": "execute_result"
    },
    {
     "data": {
      "image/png": "[encoded data removed]",
      "text/plain": [
       "<Figure size 432x288 with 1 Axes>"
      ]
     },
     "metadata": {},
     "output_type": "display_data"
    }
   ],
   "source": [
    "# visualizing price\n",
    "sns.set()\n",
    "df.plot(x = 'Date', y = 'Price')"
   ]
  },
  {
   "cell_type": "code",
   "execution_count": 33,
   "metadata": {},
   "outputs": [],
   "source": [
    "df.to_csv('ethereum_price_model.csv')"
   ]
  }
 ],
 "metadata": {
  "kernelspec": {
   "display_name": "base",
   "language": "python",
   "name": "python3"
  },
  "language_info": {
   "codemirror_mode": {
    "name": "ipython",
    "version": 3
   },
   "file_extension": ".py",
   "mimetype": "text/x-python",
   "name": "python",
   "nbconvert_exporter": "python",
   "pygments_lexer": "ipython3",
   "version": "3.9.12"
  },
  "orig_nbformat": 4,
  "vscode": {
   "interpreter": {
    "hash": "594cbcb53b7eb24b01ad1ace3292a9583de43e996a12a214afbcf4f5a5715dd8"
   }
  }
 },
 "nbformat": 4,
 "nbformat_minor": 2
}
